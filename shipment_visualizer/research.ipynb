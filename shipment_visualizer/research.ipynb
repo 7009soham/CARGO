{
 "cells": [
  {
   "cell_type": "code",
   "execution_count": 1,
   "metadata": {},
   "outputs": [],
   "source": [
    "import plotly.graph_objs as go\n",
    "\n",
    "def visualize_3d(container_dimensions, shipments):\n",
    "    fig = go.Figure()\n",
    "\n",
    "    # Plot container edges\n",
    "    fig.add_trace(go.Mesh3d(x=[0, 0, container_dimensions['length'], container_dimensions['length'], 0, 0, container_dimensions['length'], container_dimensions['length']],\n",
    "                            y=[0, container_dimensions['width'], container_dimensions['width'], 0, 0, container_dimensions['width'], container_dimensions['width'], 0],\n",
    "                            z=[0, 0, 0, 0, container_dimensions['height'], container_dimensions['height'], container_dimensions['height'], container_dimensions['height']],\n",
    "                            i=[0, 0, 0, 0, 4, 4, 6, 6, 4, 0, 3, 7],\n",
    "                            j=[1, 2, 3, 4, 5, 6, 7, 2, 1, 5, 2, 6],\n",
    "                            k=[2, 3, 7, 6, 6, 7, 3, 0, 4, 1, 5, 7],\n",
    "                            opacity=0.1,\n",
    "                            color='blue'))\n",
    "\n",
    "    # Plot shipments\n",
    "    for i, shipment in enumerate(shipments):\n",
    "        x = [shipment['x'], shipment['x'] + shipment['length'], shipment['x'] + shipment['length'], shipment['x'], shipment['x']]\n",
    "        y = [shipment['y'], shipment['y'], shipment['y'] + shipment['width'], shipment['y'] + shipment['width'], shipment['y']]\n",
    "        z = [shipment['z'], shipment['z'], shipment['z'], shipment['z'], shipment['z'] + shipment['height']]\n",
    "        fig.add_trace(go.Mesh3d(x=x, y=y, z=z, opacity=0.5, color='red'))\n",
    "\n",
    "    # Set layout\n",
    "    fig.update_layout(scene=dict(aspectmode=\"cube\"))\n",
    "\n",
    "    # Generate a unique filename using timestamp and UUID\n",
    "    filename = f'visualization_{int(time.time())}_{uuid.uuid4()}.html'\n",
    "    filepath = os.path.join(app.config['UPLOAD_FOLDER'], filename)\n",
    "\n",
    "    # Save the plot as an HTML file\n",
    "    fig.write_html(filepath)\n",
    "\n",
    "    return filename\n"
   ]
  }
 ],
 "metadata": {
  "kernelspec": {
   "display_name": "Python 3",
   "language": "python",
   "name": "python3"
  },
  "language_info": {
   "codemirror_mode": {
    "name": "ipython",
    "version": 3
   },
   "file_extension": ".py",
   "mimetype": "text/x-python",
   "name": "python",
   "nbconvert_exporter": "python",
   "pygments_lexer": "ipython3",
   "version": "3.12.3"
  }
 },
 "nbformat": 4,
 "nbformat_minor": 2
}
